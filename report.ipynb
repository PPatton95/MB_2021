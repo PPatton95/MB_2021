{
 "cells": [
  {
   "cell_type": "markdown",
   "metadata": {},
   "source": [
    "# Machine Learning Paradigms - Rental Bike Predictions\n",
    "\n"
   ]
  },
  {
   "cell_type": "markdown",
   "metadata": {},
   "source": [
    "## Introduction \n",
    "This report describes a solution to the **University of Bristol - Machine Learning Paradigms Kaggle competition**, which requires prediction of bicycle availability at rental stations across Valencia. The competition consists of three phases:\n",
    "\n",
    "* **Phase 1**: Given a month of historical data from 75 [201:275] stations, predict 3 months of bicycle availability for each station, by \n",
    "    * (a) generating a learning model for each individual station, trained on it's own data\n",
    "    * (b) generating a combined learning model which trains on all station data. <br><br>\n",
    "\n",
    "* **Phase 2**: Predict bicycle availability by applying linear models trained on 200 other stations [1:200], where multiple models for each station have been provided. Determining the best blend of these models to produce optimim results is determined experimentally. <br><br>\n",
    "\n",
    "* **Phase 3**: Attempt improved prediction performance by combining both the learning model from **Phase 1** and the linear models from **Phase 2**. <br><br>\n",
    "\n",
    "\n",
    "\n",
    "\n",
    "\n"
   ]
  },
  {
   "cell_type": "markdown",
   "metadata": {},
   "source": [
    "## Methodology"
   ]
  },
  {
   "cell_type": "markdown",
   "metadata": {},
   "source": [
    "### Data Exploration\n",
    "\n",
    "The first step in the process of generating predicitive models is to properly understand the dataset. The dataset provided consists of various features, including information regarding the individual **station** and the **time** and **weather**, and task-related features to do with the time-history of number of bikes at each station.\n",
    "\n",
    "#### Features ####\n",
    "\n",
    "| Category | Features | Description |\n",
    "| --- | -----------: | :--------- |\n",
    "| Station | Station ID <br> Latitude <br> Longitude <br> Number of Docks | Non-correlated station ID number <br>  - <br> - <br> Max amount of bikes per station (varies between stations) |\n",
    "| Time | Timestamp <br> Year <br> Month <br> Day <br> Hour <br> Weekday <br> Week-hour <br> Holiday | Seconds <br> - <br> - <br> - <br> - <br> Mon-Sun <br> 1:168 <br> 1 or 0 |\n",
    "| Weather | Max Wind Speed <br> Mean Wind Speed <br> Wind Direction <br> Temperature <br> Relative Humidity <br> Air Pressure <br> Precipitation | $ms^{-1}$ <br> $ms^{-1}$ <br> $\\text{\\textdegree}$ <br> $C\\text{\\textdegree}$ <br> $\\text{\\%}$ <br> $mBar$ <br> $L/m^2$\n",
    "| Task-Specific | Bikes 3h Ago | Number of bikes at a given station 3 hrs prior to the current timestamp |\n",
    "| Profile | Full profile <br> Full profile 3 hours ago <br> Short Profile <br> Short Profile three hours ago | Average bike numbers for the current week-hour during all previous weeks <br> As above for 3 hrs prior <br> Average bike numbers for the current week-hour over the last four weeks <br> As above for 3 hrs prior |"
   ]
  }
 ],
 "metadata": {
  "interpreter": {
   "hash": "55e6d01a945a2ecab44817078ac6e6fdcfa712b6846b1816e8484ee5d9b9735a"
  },
  "kernelspec": {
   "display_name": "Python 3.9.8 64-bit ('mb_2021venv': venv)",
   "language": "python",
   "name": "python3"
  },
  "language_info": {
   "codemirror_mode": {
    "name": "ipython",
    "version": 3
   },
   "file_extension": ".py",
   "mimetype": "text/x-python",
   "name": "python",
   "nbconvert_exporter": "python",
   "pygments_lexer": "ipython3",
   "version": "3.9.8"
  },
  "orig_nbformat": 4
 },
 "nbformat": 4,
 "nbformat_minor": 2
}
